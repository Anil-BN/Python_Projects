{
  "nbformat": 4,
  "nbformat_minor": 0,
  "metadata": {
    "colab": {
      "name": "Acronyms Using Python.ipynb",
      "provenance": [],
      "authorship_tag": "ABX9TyP3uelPbMxxTQSORIyGa26F",
      "include_colab_link": true
    },
    "kernelspec": {
      "name": "python3",
      "display_name": "Python 3"
    },
    "language_info": {
      "name": "python"
    }
  },
  "cells": [
    {
      "cell_type": "markdown",
      "metadata": {
        "id": "view-in-github",
        "colab_type": "text"
      },
      "source": [
        "<a href=\"https://colab.research.google.com/github/Anil-BN/Python_Projects/blob/main/Acronyms_Using_Python.ipynb\" target=\"_parent\"><img src=\"https://colab.research.google.com/assets/colab-badge.svg\" alt=\"Open In Colab\"/></a>"
      ]
    },
    {
      "cell_type": "code",
      "execution_count": null,
      "metadata": {
        "id": "WBUxbxV6wry5"
      },
      "outputs": [],
      "source": [
        "def Acronyms_using_Python(strn):\n",
        "  acronym = ''\n",
        "  strnl = strn.split()\n",
        "  if strn.isdigit():\n",
        "    print('Please provide a valid string')\n",
        "  else:\n",
        "    for l in strnl:\n",
        "      if len(l) == 1:\n",
        "        pass\n",
        "      elif l.istitle():\n",
        "        acronym += l[0]\n",
        "      elif l.isupper():\n",
        "        acronym += l\n",
        "    if len(acronym) == 0:\n",
        "      print('There are no Acronymns in your string')\n",
        "    else:\n",
        "      return acronym\n",
        "  \n"
      ]
    },
    {
      "cell_type": "code",
      "source": [
        "strm = 'I am working in mseb'\n",
        "Acronyms_using_Python(strm)"
      ],
      "metadata": {
        "colab": {
          "base_uri": "https://localhost:8080/"
        },
        "id": "13X23IRCx3yy",
        "outputId": "39e9218b-838c-44a6-e769-69fe4a3fbfa9"
      },
      "execution_count": null,
      "outputs": [
        {
          "output_type": "stream",
          "name": "stdout",
          "text": [
            "There are no Acronymns in your string\n"
          ]
        }
      ]
    },
    {
      "cell_type": "code",
      "source": [
        ""
      ],
      "metadata": {
        "colab": {
          "base_uri": "https://localhost:8080/"
        },
        "id": "J_ZmUE8Kx9V_",
        "outputId": "c755de96-b857-436d-9746-8106cce15928"
      },
      "execution_count": null,
      "outputs": [
        {
          "output_type": "execute_result",
          "data": {
            "text/plain": [
              "False"
            ]
          },
          "metadata": {},
          "execution_count": 12
        }
      ]
    },
    {
      "cell_type": "code",
      "source": [
        ""
      ],
      "metadata": {
        "id": "EhwfY98fyAhk"
      },
      "execution_count": null,
      "outputs": []
    }
  ]
}