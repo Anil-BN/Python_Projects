{
  "nbformat": 4,
  "nbformat_minor": 0,
  "metadata": {
    "colab": {
      "name": "Proj_03_Email_Splitter.ipynb",
      "provenance": [],
      "authorship_tag": "ABX9TyMEDc9AhOMH0sJnJwHg/x9k",
      "include_colab_link": true
    },
    "kernelspec": {
      "name": "python3",
      "display_name": "Python 3"
    },
    "language_info": {
      "name": "python"
    }
  },
  "cells": [
    {
      "cell_type": "markdown",
      "metadata": {
        "id": "view-in-github",
        "colab_type": "text"
      },
      "source": [
        "<a href=\"https://colab.research.google.com/github/Anil-BN/Python_Projects/blob/main/Proj_03_Email_Splitter.ipynb\" target=\"_parent\"><img src=\"https://colab.research.google.com/assets/colab-badge.svg\" alt=\"Open In Colab\"/></a>"
      ]
    },
    {
      "cell_type": "markdown",
      "source": [
        "#Email Splitter\n",
        "##A splitter is a function which will split the email id into the user and the domain name.\n",
        "###for. e.g. support@gmail.com so the support will be the username while gmail.com will be domain name\n"
      ],
      "metadata": {
        "id": "akMfJuyeVvBj"
      }
    },
    {
      "cell_type": "code",
      "execution_count": 1,
      "metadata": {
        "id": "4fS8NJsSVoMh"
      },
      "outputs": [],
      "source": [
        "import re"
      ]
    },
    {
      "cell_type": "code",
      "source": [
        "def email_splitter(text):\n",
        "    pattern = r'@'\n",
        "    match = re.search(pattern,text)\n",
        "    user = text[:match.start()]\n",
        "    domain = text[match.end():]\n",
        "    return(user,domain)"
      ],
      "metadata": {
        "id": "9ExmEQaGWBT2"
      },
      "execution_count": 2,
      "outputs": []
    },
    {
      "cell_type": "code",
      "source": [
        "#extract the extrension of the domain name\n",
        "def domain_splitter(text):\n",
        "    textd = text.split('.')\n",
        "    textd1 = textd[0]\n",
        "    textd2 = textd[1:]\n",
        "    return textd1,textd2"
      ],
      "metadata": {
        "id": "wtBx4IecWDiK"
      },
      "execution_count": 3,
      "outputs": []
    },
    {
      "cell_type": "code",
      "source": [
        "email_address = input('Please provide the email address :- ')"
      ],
      "metadata": {
        "colab": {
          "base_uri": "https://localhost:8080/"
        },
        "id": "3_JNvAOJWVJa",
        "outputId": "082a647a-edda-4700-e884-ec28973944b7"
      },
      "execution_count": 4,
      "outputs": [
        {
          "name": "stdout",
          "output_type": "stream",
          "text": [
            "Please provide the email address :- abcdefg@gmail.co.in\n"
          ]
        }
      ]
    },
    {
      "cell_type": "code",
      "source": [
        "user,domain = email_splitter(email_address)\n",
        "domain1,domain2 = domain_splitter(domain)\n",
        "print('The user name in the email provided is:- ',user)\n",
        "print('The first domain name is :- ',domain1)\n",
        "print('The second part of the domain is :- ',domain2)"
      ],
      "metadata": {
        "colab": {
          "base_uri": "https://localhost:8080/"
        },
        "id": "7QtxhZQDWF_L",
        "outputId": "9e6683f9-49f8-4462-bcde-fc8b735ec6f6"
      },
      "execution_count": 5,
      "outputs": [
        {
          "output_type": "stream",
          "name": "stdout",
          "text": [
            "The user name in the email provided is:-  abcdefg\n",
            "The first domain name is :-  gmail\n",
            "The second part of the domain is :-  ['co', 'in']\n"
          ]
        }
      ]
    },
    {
      "cell_type": "code",
      "source": [
        ""
      ],
      "metadata": {
        "id": "YnKO-z-AWK5Y"
      },
      "execution_count": null,
      "outputs": []
    }
  ]
}