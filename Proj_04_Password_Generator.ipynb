{
  "nbformat": 4,
  "nbformat_minor": 0,
  "metadata": {
    "colab": {
      "name": "Proj_04_Password_Generator.ipynb",
      "provenance": [],
      "collapsed_sections": [],
      "authorship_tag": "ABX9TyPmckTyXoswqCDhT+/TxRbv",
      "include_colab_link": true
    },
    "kernelspec": {
      "name": "python3",
      "display_name": "Python 3"
    },
    "language_info": {
      "name": "python"
    }
  },
  "cells": [
    {
      "cell_type": "markdown",
      "metadata": {
        "id": "view-in-github",
        "colab_type": "text"
      },
      "source": [
        "<a href=\"https://colab.research.google.com/github/Anil-BN/Python_Projects/blob/main/Proj_04_Password_Generator.ipynb\" target=\"_parent\"><img src=\"https://colab.research.google.com/assets/colab-badge.svg\" alt=\"Open In Colab\"/></a>"
      ]
    },
    {
      "cell_type": "code",
      "source": [
        "#pip install pyttsx3\n",
        "!pip install gTTS"
      ],
      "metadata": {
        "colab": {
          "base_uri": "https://localhost:8080/"
        },
        "id": "OKraYC2byrJh",
        "outputId": "5684848a-a65c-4ca9-871b-83f511e3f80b"
      },
      "execution_count": null,
      "outputs": [
        {
          "output_type": "stream",
          "name": "stdout",
          "text": [
            "Collecting gTTS\n",
            "  Downloading gTTS-2.2.3-py3-none-any.whl (25 kB)\n",
            "Requirement already satisfied: click in /usr/local/lib/python3.7/dist-packages (from gTTS) (7.1.2)\n",
            "Requirement already satisfied: six in /usr/local/lib/python3.7/dist-packages (from gTTS) (1.15.0)\n",
            "Requirement already satisfied: requests in /usr/local/lib/python3.7/dist-packages (from gTTS) (2.23.0)\n",
            "Requirement already satisfied: certifi>=2017.4.17 in /usr/local/lib/python3.7/dist-packages (from requests->gTTS) (2021.10.8)\n",
            "Requirement already satisfied: idna<3,>=2.5 in /usr/local/lib/python3.7/dist-packages (from requests->gTTS) (2.10)\n",
            "Requirement already satisfied: urllib3!=1.25.0,!=1.25.1,<1.26,>=1.21.1 in /usr/local/lib/python3.7/dist-packages (from requests->gTTS) (1.24.3)\n",
            "Requirement already satisfied: chardet<4,>=3.0.2 in /usr/local/lib/python3.7/dist-packages (from requests->gTTS) (3.0.4)\n",
            "Installing collected packages: gTTS\n",
            "Successfully installed gTTS-2.2.3\n"
          ]
        }
      ]
    },
    {
      "cell_type": "code",
      "execution_count": null,
      "metadata": {
        "id": "f9LLgvFxdrqv"
      },
      "outputs": [],
      "source": [
        "def generate_password(plength):\n",
        "    import random\n",
        "    import string\n",
        "    smstr = string.ascii_lowercase\n",
        "    upstr = string.ascii_uppercase\n",
        "    numstr= '1234567890'\n",
        "    spstr = '!@#$%^&*+_='\n",
        "    password = smstr+upstr+spstr+numstr\n",
        "    p = \"\".join(random.sample(password,plength))\n",
        "    return p"
      ]
    },
    {
      "cell_type": "code",
      "source": [
        "from gtts import gTTS"
      ],
      "metadata": {
        "id": "GUcaLIwByWv8"
      },
      "execution_count": null,
      "outputs": []
    },
    {
      "cell_type": "code",
      "source": [
        "from IPython.display import Audio\n",
        "tts = gTTS('Please enter the length of the password')\n",
        "tts.save('text1.wav')\n",
        "sound_file = 'text1.wav'\n",
        "Audio(sound_file, autoplay=True)"
      ],
      "metadata": {
        "colab": {
          "base_uri": "https://localhost:8080/",
          "height": 75
        },
        "id": "03IuH4lay_Kh",
        "outputId": "2cfb4445-c634-44ac-f9fc-9dbea960238c"
      },
      "execution_count": null,
      "outputs": [
        {
          "output_type": "execute_result",
          "data": {
            "text/html": [
              "\n",
              "                <audio controls=\"controls\" autoplay=\"autoplay\">\n",
              "                    <source src=\"data:audio/x-wav;base64,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\" type=\"audio/x-wav\" />\n",
              "                    Your browser does not support the audio element.\n",
              "                </audio>\n",
              "              "
            ],
            "text/plain": [
              "<IPython.lib.display.Audio object>"
            ]
          },
          "metadata": {},
          "execution_count": 17
        }
      ]
    },
    {
      "cell_type": "code",
      "source": [
        "pass_len = int(input(\"Password length :- \"))"
      ],
      "metadata": {
        "colab": {
          "base_uri": "https://localhost:8080/"
        },
        "id": "vXUM9G3byZ6U",
        "outputId": "14493d64-68d2-4cf7-b737-51e031dbf7bb"
      },
      "execution_count": null,
      "outputs": [
        {
          "name": "stdout",
          "output_type": "stream",
          "text": [
            "Password length :- 10\n"
          ]
        }
      ]
    },
    {
      "cell_type": "code",
      "source": [
        "generate_password(pass_len)"
      ],
      "metadata": {
        "id": "lR_cGptSd1sE",
        "colab": {
          "base_uri": "https://localhost:8080/",
          "height": 35
        },
        "outputId": "146494f4-f26b-4472-9747-c86270957c5b"
      },
      "execution_count": null,
      "outputs": [
        {
          "output_type": "execute_result",
          "data": {
            "application/vnd.google.colaboratory.intrinsic+json": {
              "type": "string"
            },
            "text/plain": [
              "'g^jXrd=aL@'"
            ]
          },
          "metadata": {},
          "execution_count": 20
        }
      ]
    }
  ]
}